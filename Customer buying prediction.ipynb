{
 "cells": [
  {
   "cell_type": "code",
   "execution_count": 42,
   "id": "330b9584-33ca-4bcf-ab0a-a5e383710468",
   "metadata": {
    "id": "330b9584-33ca-4bcf-ab0a-a5e383710468"
   },
   "outputs": [],
   "source": [
    "#Disabling warnings\n",
    "import warnings \n",
    "warnings.simplefilter(action='ignore', category=FutureWarning)\n",
    "warnings.filterwarnings('ignore')\n",
    "\n",
    "#Importing packages\n",
    "import pandas as pd\n",
    "import numpy as np\n",
    "import seaborn as sns\n",
    "import matplotlib.pyplot as plt\n",
    "\n",
    "from sklearn.model_selection import train_test_split\n",
    "from sklearn.naive_bayes import MultinomialNB\n",
    "from sklearn.ensemble import RandomForestClassifier\n",
    "from sklearn import metrics\n",
    "from sklearn.metrics import confusion_matrix, ConfusionMatrixDisplay\n",
    "from sklearn.inspection import permutation_importance\n",
    "from collections import defaultdict\n",
    "\n",
    "pd.options.mode.chained_assignment = None  # default='warn'\n",
    "warnings.filterwarnings('ignore')"
   ]
  },
  {
   "cell_type": "code",
   "execution_count": 2,
   "id": "Rn0cSPuUTNma",
   "metadata": {
    "id": "Rn0cSPuUTNma"
   },
   "outputs": [],
   "source": [
    "#Importing datasets\n",
    "df_train = pd.read_csv('training_data.csv')\n",
    "df_test = pd.read_csv('eval_data.csv')"
   ]
  },
  {
   "cell_type": "code",
   "execution_count": 3,
   "id": "kModTckyX1Nt",
   "metadata": {
    "id": "kModTckyX1Nt"
   },
   "outputs": [],
   "source": [
    "# Converting the server timestamp into a real date\n",
    "df_train['date'] = pd.to_datetime(df_train['server_timestamp_epoch_ms'],unit='ms')\n",
    "df_test['date'] = pd.to_datetime(df_test['server_timestamp_epoch_ms'],unit='ms')"
   ]
  },
  {
   "cell_type": "markdown",
   "id": "Umnn419cHih1",
   "metadata": {
    "id": "Umnn419cHih1"
   },
   "source": [
    "# 1. Pre-processing the sessions"
   ]
  },
  {
   "cell_type": "code",
   "execution_count": 4,
   "id": "b9084eab-ec01-44da-8b4a-49c036ae59aa",
   "metadata": {
    "id": "b9084eab-ec01-44da-8b4a-49c036ae59aa"
   },
   "outputs": [],
   "source": [
    "# 1.1 sessionise product action based on session ID\n",
    "def sessionise(df):\n",
    "    df['product_action'] = df['product_action'].fillna('view')\n",
    "    df = df.groupby('session_id_hash')['product_action'].agg(list).reset_index()\n",
    "    return df\n",
    "    \n",
    "df_test1 = sessionise(df_test)\n",
    "df_train1 = sessionise(df_train)"
   ]
  },
  {
   "cell_type": "code",
   "execution_count": 5,
   "id": "jSatW3b8XxmG",
   "metadata": {
    "id": "jSatW3b8XxmG"
   },
   "outputs": [],
   "source": [
    "# Creating a temporary dataframe where the start and end time of a session are grouped by the session ID \n",
    "df_test2 =df_test.groupby('session_id_hash')['date'].agg(['min', 'max'])\n",
    "df_train2 =df_train.groupby('session_id_hash')['date'].agg(['min', 'max'])\n",
    "\n",
    "# Merging the 2 dataframes on session ID\n",
    "df_test = pd.merge(df_test1, df_test2, how='left', on='session_id_hash')\n",
    "df_train = pd.merge(df_train1, df_train2, how='left', on='session_id_hash')"
   ]
  },
  {
   "cell_type": "code",
   "execution_count": 6,
   "id": "c9d9b595-5c6e-4085-be00-83836ca3f6ab",
   "metadata": {
    "id": "c9d9b595-5c6e-4085-be00-83836ca3f6ab"
   },
   "outputs": [],
   "source": [
    "# 1.2 select sessions with at least one add-to-cart (1pt)\n",
    "df_train = df_train[df_train['product_action'].apply(lambda x: 'add' in x)]\n",
    "df_test = df_test[df_test['product_action'].apply(lambda x: 'add' in x)]"
   ]
  },
  {
   "cell_type": "code",
   "execution_count": 7,
   "id": "c5891968-eb8b-4596-9600-bab0de6dd4b4",
   "metadata": {
    "id": "c5891968-eb8b-4596-9600-bab0de6dd4b4"
   },
   "outputs": [],
   "source": [
    "# 1.3 add class labels: treat purchase as the positive class (1pt)\n",
    "df_train['purchase'] = np.where(df_train.product_action.map(set(['purchase']).issubset), 1, 0)\n",
    "df_test['purchase'] = np.where(df_test.product_action.map(set(['purchase']).issubset), 1, 0)"
   ]
  },
  {
   "cell_type": "code",
   "execution_count": 8,
   "id": "b268771c-a03c-4855-912b-5e6d6c4af3ac",
   "metadata": {
    "id": "b268771c-a03c-4855-912b-5e6d6c4af3ac"
   },
   "outputs": [],
   "source": [
    "# 1.4 cut purchase sessions to the last event before the first purchase (1pt)\n",
    "df_train['product_action'] = df_train['product_action'].map(lambda x: x[0:(x.index('purchase'))] if 'purchase' in x else x)\n",
    "df_test['product_action'] = df_test['product_action'].map(lambda x: x[0:(x.index('purchase'))] if 'purchase' in x else x)"
   ]
  },
  {
   "cell_type": "code",
   "execution_count": 9,
   "id": "802dbc12-cfdb-486c-acd7-72e90ae2e419",
   "metadata": {
    "id": "802dbc12-cfdb-486c-acd7-72e90ae2e419"
   },
   "outputs": [],
   "source": [
    "# 1.5 remove sessions shorter than 5 and longer than 155 clicks (1pt)\n",
    "def resize(df):\n",
    "    df['count'] = df['product_action'].astype(str).str.split(pat = ',').str.len()\n",
    "    df = df[df['count'].apply(lambda x: x > 5 and x < 155)]\n",
    "    df = df.drop(['count'], axis=1)\n",
    "    return df\n",
    "\n",
    "df_train = resize(df_train)\n",
    "df_test = resize(df_test)"
   ]
  },
  {
   "cell_type": "code",
   "execution_count": 10,
   "id": "f4707f20-275c-4da5-86c7-262101ec445d",
   "metadata": {
    "id": "f4707f20-275c-4da5-86c7-262101ec445d"
   },
   "outputs": [],
   "source": [
    "# 1.6 symbolise actions (1pt)\n",
    "#{'view': 1, 'detail': 2, 'add': 3, 'remove': 4}\n",
    "def symbolise(x):\n",
    "    l = []\n",
    "    for word in x:\n",
    "        if word == 'view':\n",
    "            l.append(1)\n",
    "        if word == 'detail':\n",
    "            l.append(2)\n",
    "        if word == 'add':\n",
    "            l.append(3)\n",
    "        if word == 'remove':\n",
    "            l.append(4)  \n",
    "    return l\n",
    "\n",
    "df_train['product_action'] =  df_train['product_action'].apply(symbolise)\n",
    "df_test['product_action'] =  df_test['product_action'].apply(symbolise)"
   ]
  },
  {
   "cell_type": "code",
   "execution_count": 11,
   "id": "61ec7dc0-f2bc-425d-a96d-7689529f8517",
   "metadata": {
    "id": "61ec7dc0-f2bc-425d-a96d-7689529f8517"
   },
   "outputs": [],
   "source": [
    "# Make datasplit; 5/10/15 after add to cart\n",
    "def cut_after(x, n):\n",
    "    # if 3 (add to cart) not in list return None\n",
    "    if 3 not in x:\n",
    "        return None\n",
    "    \n",
    "    out = []\n",
    "    index = x.index(3) + n + 1\n",
    "    \n",
    "    #check if n(5, 10, 15) indexes after 3 is possible, if not return whole list\n",
    "    if index > len(x):\n",
    "        return None\n",
    "    \n",
    "    #return list untill n after 3\n",
    "    for i in range(index):\n",
    "        out.append(x[i])\n",
    "    \n",
    "    return out\n",
    "\n",
    "\n",
    "def cut_df(df):\n",
    "    df['action_5']  = df['product_action'].apply(lambda x: cut_after(x, 5))\n",
    "    df['action_10'] = df['product_action'].apply(lambda x: cut_after(x, 10))\n",
    "    df['action_15'] = df['product_action'].apply(lambda x: cut_after(x, 15))\n",
    "    \n",
    "    df_5 = df[['action_5', 'min', 'max', 'purchase']]\n",
    "    df_10 = df[['action_10','min', 'max', 'purchase']]\n",
    "    df_15 = df[['action_15', 'min', 'max','purchase']]\n",
    "    \n",
    "    # remove rows with no data, the rows with fewer then 5, 10 or 15 instences\n",
    "    df_5 = df_5.dropna()\n",
    "    df_10 = df_10.dropna()\n",
    "    df_15 = df_15.dropna()\n",
    "\n",
    "    df_5 = df_5.rename(columns   = {'action_5':'action'})\n",
    "    df_10 = df_10.rename(columns = {'action_10':'action'})\n",
    "    df_15 = df_15.rename(columns = {'action_15':'action'})\n",
    "    \n",
    "    return df_5, df_10, df_15\n",
    "\n",
    "df_train_5, df_train_10, df_train_15 = cut_df(df_train)\n",
    "df_test_5, df_test_10, df_test_15 = cut_df(df_test)"
   ]
  },
  {
   "cell_type": "code",
   "execution_count": 12,
   "id": "WOm2ESgwbfYJ",
   "metadata": {
    "id": "WOm2ESgwbfYJ"
   },
   "outputs": [],
   "source": [
    "# Adding day of the week column to the dataframe\n",
    "# Monday =0, Tuesday=1, Wednesday=2,Thursday =3,  Friday=4 ,  Saturday =5, Sunday =6)\n",
    "# It is better to use numbers that represent the day in the week or else we will have to create dummy variables later\n",
    "df_train_5['day_of_week'] = df_train_5['min'].dt.dayofweek\n",
    "df_train_10['day_of_week'] = df_train_10['min'].dt.dayofweek\n",
    "df_train_15['day_of_week'] = df_train_15['min'].dt.dayofweek\n",
    "df_test_5['day_of_week'] = df_test_5['min'].dt.dayofweek\n",
    "df_test_10['day_of_week'] = df_test_10['min'].dt.dayofweek\n",
    "df_test_15['day_of_week'] = df_test_5['min'].dt.dayofweek"
   ]
  },
  {
   "cell_type": "code",
   "execution_count": 13,
   "id": "9vd9CB4qboJ6",
   "metadata": {
    "id": "9vd9CB4qboJ6"
   },
   "outputs": [],
   "source": [
    "# Calculating how long the sessions are in minutes and creating a new column\n",
    "df_train_5['session_in_minutes']= (df_train_5['max']-df_train_5['min'] ).astype('timedelta64[m]')\n",
    "df_train_10['session_in_minutes']= (df_train_10['max']-df_train_10['min'] ).astype('timedelta64[m]')\n",
    "df_train_15['session_in_minutes']= (df_train_15['max']-df_train_15['min'] ).astype('timedelta64[m]')\n",
    "\n",
    "df_test_5['session_in_minutes']= (df_test_5['max']-df_test_5['min'] ).astype('timedelta64[m]')\n",
    "df_test_10['session_in_minutes']= (df_test_10['max']-df_test_10['min'] ).astype('timedelta64[m]')\n",
    "df_test_15['session_in_minutes']= (df_test_15['max']-df_test_15['min'] ).astype('timedelta64[m]')"
   ]
  },
  {
   "cell_type": "markdown",
   "id": "jaqdnIb6Hqxq",
   "metadata": {
    "id": "jaqdnIb6Hqxq"
   },
   "source": [
    "# 2. Oracle Model"
   ]
  },
  {
   "cell_type": "code",
   "execution_count": 14,
   "id": "ye7qEKV9NCYW",
   "metadata": {
    "colab": {
     "base_uri": "https://localhost:8080/"
    },
    "executionInfo": {
     "elapsed": 320,
     "status": "ok",
     "timestamp": 1648076544895,
     "user": {
      "displayName": "Melanie Waterham",
      "photoUrl": "https://lh3.googleusercontent.com/a-/AOh14Gh-AQsx7DnpZVjsBjDzFBFaCe-qCVZ38TCvTl-X=s64",
      "userId": "12585328161781799289"
     },
     "user_tz": -60
    },
    "id": "ye7qEKV9NCYW",
    "outputId": "0277c882-2102-41b3-8add-18da209b8b16"
   },
   "outputs": [
    {
     "name": "stdout",
     "output_type": "stream",
     "text": [
      "f1 for Oracle Model 5 after add to cart: 0.6669442131557036\n"
     ]
    }
   ],
   "source": [
    "# 2.1 Oracle score for 5 after add to cart\n",
    "\n",
    "# Splitting symbolise and labels\n",
    "symbolise_5 =  df_test_5['action']\n",
    "labels_5 = df_test_5['purchase']\n",
    "\n",
    "# Looping through sessions in the evaluation set and storing a dictionary which\n",
    "# maps session, label, and how often that session is found with that label \n",
    "d = defaultdict(lambda: defaultdict(int))\n",
    "for session, label in zip(symbolise_5, labels_5):\n",
    "    d[str(tuple(session))][label] += 1\n",
    "\n",
    "# For each label in a session it counts the number of purchase and number of browsing\n",
    "# and in the end it normalizes it\n",
    "oracle = {}\n",
    "for session in d.keys():\n",
    "    n_buy, n_ws = 0, 0\n",
    "    for label in d[session].keys():\n",
    "        if label:\n",
    "            n_buy += d[session][label]\n",
    "        else:\n",
    "            n_ws += d[session][label]\n",
    "    oracle[session] = n_buy / (n_buy + n_ws)\n",
    "\n",
    "# Assigning the oracle scores per session to a list\n",
    "session_oracle = list()\n",
    "\n",
    "for i in df_test_5['action']:\n",
    "    session_oracle.append(oracle[str(tuple(i))])\n",
    "\n",
    "# Converting the oracle score to integers\n",
    "oracle_probs = [round(num) for num in session_oracle]\n",
    "\n",
    "# Computing 5 after add to cart f1 score\n",
    "oracle_labels_5 = oracle_probs\n",
    "labels_test_5 = df_test_5['purchase']\n",
    "\n",
    "print('f1 for Oracle Model 5 after add to cart:', metrics.f1_score(oracle_labels_5, labels_test_5))"
   ]
  },
  {
   "cell_type": "code",
   "execution_count": 15,
   "id": "3fgm8bPzQIUc",
   "metadata": {
    "colab": {
     "base_uri": "https://localhost:8080/"
    },
    "executionInfo": {
     "elapsed": 7,
     "status": "ok",
     "timestamp": 1648076544896,
     "user": {
      "displayName": "Melanie Waterham",
      "photoUrl": "https://lh3.googleusercontent.com/a-/AOh14Gh-AQsx7DnpZVjsBjDzFBFaCe-qCVZ38TCvTl-X=s64",
      "userId": "12585328161781799289"
     },
     "user_tz": -60
    },
    "id": "3fgm8bPzQIUc",
    "outputId": "c678c80c-6642-4a00-fa68-0e403adfd85c"
   },
   "outputs": [
    {
     "name": "stdout",
     "output_type": "stream",
     "text": [
      "f1 for Oracle Model 10 after add to cart: 0.8967468175388967\n"
     ]
    }
   ],
   "source": [
    "# 2.2 Oracle score for 10 after add to cart\n",
    "\n",
    "# Splitting symbolise and labels\n",
    "symbolise_10 =  df_test_10['action']\n",
    "labels_10 = df_test_10['purchase']\n",
    "\n",
    "# Looping through sessions in the evaluation set and storing a dictionary which\n",
    "# maps session, label, and how often that session is found with that label \n",
    "d = defaultdict(lambda: defaultdict(int))\n",
    "for session, label in zip(symbolise_10, labels_10):\n",
    "    d[str(tuple(session))][label] += 1\n",
    "\n",
    "# For each label in a session it counts the number of purchase and number of browsing\n",
    "# and in the end it normalizes it\n",
    "oracle = {}\n",
    "for session in d.keys():\n",
    "    n_buy, n_ws = 0, 0\n",
    "    for label in d[session].keys():\n",
    "        if label:\n",
    "            n_buy += d[session][label]\n",
    "        else:\n",
    "            n_ws += d[session][label]\n",
    "    oracle[session] = n_buy / (n_buy + n_ws)\n",
    "\n",
    "# Assigning the oracle scores per session to a list\n",
    "session_oracle = list()\n",
    "\n",
    "for i in df_test_10['action']:\n",
    "    session_oracle.append(oracle[str(tuple(i))])\n",
    "\n",
    "# Converting the oracle score to integers\n",
    "oracle_probs = [round(num) for num in session_oracle]\n",
    "\n",
    "# Computing 10 after add to cart f1 score\n",
    "oracle_labels_10 = oracle_probs\n",
    "labels_test_10 = df_test_10['purchase']\n",
    "\n",
    "print('f1 for Oracle Model 10 after add to cart:', metrics.f1_score(oracle_labels_10, labels_test_10))"
   ]
  },
  {
   "cell_type": "code",
   "execution_count": 16,
   "id": "wp7hvySNT_lD",
   "metadata": {
    "colab": {
     "base_uri": "https://localhost:8080/"
    },
    "executionInfo": {
     "elapsed": 255,
     "status": "ok",
     "timestamp": 1648076545147,
     "user": {
      "displayName": "Melanie Waterham",
      "photoUrl": "https://lh3.googleusercontent.com/a-/AOh14Gh-AQsx7DnpZVjsBjDzFBFaCe-qCVZ38TCvTl-X=s64",
      "userId": "12585328161781799289"
     },
     "user_tz": -60
    },
    "id": "wp7hvySNT_lD",
    "outputId": "bd7691e9-d03c-4006-bf82-60cbc21206f5"
   },
   "outputs": [
    {
     "name": "stdout",
     "output_type": "stream",
     "text": [
      "f1 for Oracle Model 15 after add to cart: 0.9697089685210849\n"
     ]
    }
   ],
   "source": [
    "# 2.3 Oracle score for 15 after add to cart\n",
    "\n",
    "# Splitting symbolise and labels\n",
    "symbolise_15 =  df_test_15['action']\n",
    "labels_15 = df_test_15['purchase']\n",
    "\n",
    "# Looping through sessions in the evaluation set and storing a dictionary which\n",
    "# maps session, label, and how often that session is found with that label \n",
    "d = defaultdict(lambda: defaultdict(int))\n",
    "for session, label in zip(symbolise_15, labels_15):\n",
    "    d[str(tuple(session))][label] += 1\n",
    "\n",
    "# For each label in a session it counts the number of purchase and number of browsing\n",
    "# and in the end it normalizes it\n",
    "oracle = {}\n",
    "for session in d.keys():\n",
    "    n_buy, n_ws = 0, 0\n",
    "    for label in d[session].keys():\n",
    "        if label:\n",
    "            n_buy += d[session][label]\n",
    "        else:\n",
    "            n_ws += d[session][label]\n",
    "    oracle[session] = n_buy / (n_buy + n_ws)\n",
    "\n",
    "# Assigning the oracle scores per session to a list\n",
    "session_oracle = list()\n",
    "\n",
    "for i in df_test_15['action']:\n",
    "    session_oracle.append(oracle[str(tuple(i))])\n",
    "\n",
    "# Converting the oracle score to integers\n",
    "oracle_probs = [round(num) for num in session_oracle]\n",
    "\n",
    "# Computing 15 after add to cart f1 score\n",
    "oracle_labels_15 = oracle_probs\n",
    "labels_test_15 = df_test_15['purchase']\n",
    "\n",
    "print('f1 for Oracle Model 15 after add to cart:', metrics.f1_score(oracle_labels_15, labels_test_15))"
   ]
  },
  {
   "cell_type": "code",
   "execution_count": 17,
   "id": "6d0ff425-3df2-45c0-a06b-f6546e45c2d8",
   "metadata": {
    "id": "6d0ff425-3df2-45c0-a06b-f6546e45c2d8"
   },
   "outputs": [],
   "source": [
    "# Function for making ngrams\n",
    "def ngram_featurizer(session, n):\n",
    "    session = ['#'] + session + ['+']\n",
    "    ngrams = [tuple(session[i:i+n]) for i in range(len(session)-n+1)]\n",
    "    \n",
    "    return ngrams\n",
    "    \n",
    "\n",
    "def encode_sessions(sessions, n, mapping=None):\n",
    "    if not mapping:\n",
    "        all_ngrams = set()\n",
    "        for session in sessions:\n",
    "            all_ngrams = all_ngrams.union(set(ngram_featurizer(session, n)))\n",
    "    \n",
    "        mapping = {ngram: i for i, ngram in enumerate(all_ngrams)}\n",
    "    \n",
    "    X = np.zeros((len(sessions), len(mapping)))\n",
    "    for i, session in enumerate(sessions):\n",
    "        for ngram in ngram_featurizer(session, n):\n",
    "            try:\n",
    "                X[i, mapping[ngram]] += 1\n",
    "            except KeyError:\n",
    "                pass\n",
    "    \n",
    "    return X, mapping"
   ]
  },
  {
   "cell_type": "markdown",
   "id": "gdlHA7XFHvuv",
   "metadata": {
    "id": "gdlHA7XFHvuv"
   },
   "source": [
    "# 3. Baseline"
   ]
  },
  {
   "cell_type": "code",
   "execution_count": 18,
   "id": "5d1b6616-4804-4a09-af9b-c83d3a006cdb",
   "metadata": {
    "colab": {
     "base_uri": "https://localhost:8080/"
    },
    "executionInfo": {
     "elapsed": 3538,
     "status": "ok",
     "timestamp": 1648076548683,
     "user": {
      "displayName": "Melanie Waterham",
      "photoUrl": "https://lh3.googleusercontent.com/a-/AOh14Gh-AQsx7DnpZVjsBjDzFBFaCe-qCVZ38TCvTl-X=s64",
      "userId": "12585328161781799289"
     },
     "user_tz": -60
    },
    "id": "5d1b6616-4804-4a09-af9b-c83d3a006cdb",
    "outputId": "aec11438-7406-4666-e7cd-b49491befd08"
   },
   "outputs": [
    {
     "name": "stdout",
     "output_type": "stream",
     "text": [
      "f1 for 5 after add to cart: 0.3030984763268228\n"
     ]
    }
   ],
   "source": [
    "# 3.1 Naïve Bayes, order 3, 5 clicks post add-to-cart\n",
    "#Make split\n",
    "sessions_train = list(df_train_5['action'])\n",
    "sessions_test = list(df_test_5['action'])\n",
    "labels_train = list(df_train_5['purchase'])\n",
    "labels_test = list(df_test_5['purchase'])\n",
    "\n",
    "#make n-grams\n",
    "Xtrain, mapping = encode_sessions(sessions_train, 3)\n",
    "Xtest, _ = encode_sessions(sessions_test, 3, mapping=mapping)\n",
    "\n",
    "#Train model\n",
    "NB = MultinomialNB(alpha=1, fit_prior=True)\n",
    "NB.fit(Xtrain,labels_train)\n",
    "bayes_predictions = NB.predict(Xtest)\n",
    "\n",
    "#print result\n",
    "print('f1 for 5 after add to cart:', metrics.f1_score(labels_test, bayes_predictions))"
   ]
  },
  {
   "cell_type": "code",
   "execution_count": 19,
   "id": "529850f6-6f85-4158-aeaf-538e53370ac7",
   "metadata": {
    "colab": {
     "base_uri": "https://localhost:8080/"
    },
    "executionInfo": {
     "elapsed": 3094,
     "status": "ok",
     "timestamp": 1648076551770,
     "user": {
      "displayName": "Melanie Waterham",
      "photoUrl": "https://lh3.googleusercontent.com/a-/AOh14Gh-AQsx7DnpZVjsBjDzFBFaCe-qCVZ38TCvTl-X=s64",
      "userId": "12585328161781799289"
     },
     "user_tz": -60
    },
    "id": "529850f6-6f85-4158-aeaf-538e53370ac7",
    "outputId": "fb0d8aca-dbb6-445d-eb9f-e0ee26350d90"
   },
   "outputs": [
    {
     "name": "stdout",
     "output_type": "stream",
     "text": [
      "f1 for 10 after add to cart: 0.35261707988980723\n"
     ]
    }
   ],
   "source": [
    "# 3.2 Naïve Bayes, order 3, 10 clicks post add-to-cart\n",
    "#Make split\n",
    "sessions_train = list(df_train_10['action'])\n",
    "sessions_test = list(df_test_10['action'])\n",
    "labels_train = list(df_train_10['purchase'])\n",
    "labels_test = list(df_test_10['purchase'])\n",
    "\n",
    "#make n-grams\n",
    "Xtrain, mapping = encode_sessions(sessions_train, 3)\n",
    "Xtest, _ = encode_sessions(sessions_test, 3, mapping=mapping)\n",
    "\n",
    "#Train model\n",
    "NB = MultinomialNB()\n",
    "NB.fit(Xtrain,labels_train)\n",
    "bayes_predictions = NB.predict(Xtest)\n",
    "\n",
    "#print result\n",
    "print('f1 for 10 after add to cart:', metrics.f1_score(labels_test, bayes_predictions))"
   ]
  },
  {
   "cell_type": "code",
   "execution_count": 20,
   "id": "69c7afa9-e9cd-4716-9487-5fbb018f12e4",
   "metadata": {
    "colab": {
     "base_uri": "https://localhost:8080/"
    },
    "executionInfo": {
     "elapsed": 2663,
     "status": "ok",
     "timestamp": 1648076554422,
     "user": {
      "displayName": "Melanie Waterham",
      "photoUrl": "https://lh3.googleusercontent.com/a-/AOh14Gh-AQsx7DnpZVjsBjDzFBFaCe-qCVZ38TCvTl-X=s64",
      "userId": "12585328161781799289"
     },
     "user_tz": -60
    },
    "id": "69c7afa9-e9cd-4716-9487-5fbb018f12e4",
    "outputId": "a658cb1e-2cd7-4138-f251-26515763397b"
   },
   "outputs": [
    {
     "name": "stdout",
     "output_type": "stream",
     "text": [
      "f1 for 15 after add to cart: 0.3675298804780877\n"
     ]
    }
   ],
   "source": [
    "# 3.3 Naïve Bayes, order 3, 15 clicks post add-to-cart\n",
    "#Make split\n",
    "sessions_train = list(df_train_15['action'])\n",
    "sessions_test = list(df_test_15['action'])\n",
    "labels_train = list(df_train_15['purchase'])\n",
    "labels_test = list(df_test_15['purchase'])\n",
    "\n",
    "#make n-grams\n",
    "Xtrain, mapping = encode_sessions(sessions_train, 3)\n",
    "Xtest, _ = encode_sessions(sessions_test, 3, mapping=mapping)\n",
    "\n",
    "#Train model\n",
    "NB = MultinomialNB()\n",
    "NB.fit(Xtrain,labels_train)\n",
    "bayes_predictions = NB.predict(Xtest)\n",
    "\n",
    "#print result\n",
    "print('f1 for 15 after add to cart:', metrics.f1_score(labels_test, bayes_predictions))"
   ]
  },
  {
   "cell_type": "markdown",
   "id": "S3LVI4mpHzDe",
   "metadata": {
    "id": "S3LVI4mpHzDe"
   },
   "source": [
    "# 4. Implementing a better model: Random Forest"
   ]
  },
  {
   "cell_type": "code",
   "execution_count": 21,
   "id": "gcc-YFWtWJKM",
   "metadata": {
    "colab": {
     "base_uri": "https://localhost:8080/"
    },
    "executionInfo": {
     "elapsed": 4706,
     "status": "ok",
     "timestamp": 1648076559122,
     "user": {
      "displayName": "Melanie Waterham",
      "photoUrl": "https://lh3.googleusercontent.com/a-/AOh14Gh-AQsx7DnpZVjsBjDzFBFaCe-qCVZ38TCvTl-X=s64",
      "userId": "12585328161781799289"
     },
     "user_tz": -60
    },
    "id": "gcc-YFWtWJKM",
    "outputId": "64994e4c-6681-46d1-edcc-3eba279113ff"
   },
   "outputs": [
    {
     "name": "stdout",
     "output_type": "stream",
     "text": [
      "f1 for 5 after add to cart with extra columns: 0.4221723044397463\n"
     ]
    }
   ],
   "source": [
    "# 4.1 Random Forest, order 3, 5 clicks after add to cart\n",
    "# Make split\n",
    "sessions_train = list(df_train_5['action'])\n",
    "sessions_test = list(df_test_5['action'])\n",
    "labels_train = list(df_train_5['purchase'])\n",
    "labels_test = list(df_test_5['purchase'])\n",
    "\n",
    "# make n-grams\n",
    "Xtrain, mapping = encode_sessions(sessions_train, 3)\n",
    "Xtest, _ = encode_sessions(sessions_test, 3, mapping=mapping)\n",
    "\n",
    "# adding the sessions in minutes and weekday column\n",
    "Xtrain = pd.DataFrame(Xtrain)\n",
    "Xtrain[['day_of_week', 'session_in_minutes']] = df_train_5[['day_of_week', 'session_in_minutes']].values\n",
    "Xtest = pd.DataFrame(Xtest)\n",
    "Xtest[['day_of_week', 'session_in_minutes']] = df_test_5[['day_of_week', 'session_in_minutes']].values\n",
    "\n",
    "# Train model\n",
    "clf = RandomForestClassifier(n_estimators = 10, max_depth = 10, max_features = \"auto\", class_weight = \"balanced\")\n",
    "clf.fit(Xtrain, labels_train)\n",
    "forest_predictions = clf.predict(Xtest)\n",
    "\n",
    "# Print result\n",
    "print(\"f1 for 5 after add to cart with extra columns:\", metrics.f1_score(labels_test, forest_predictions))"
   ]
  },
  {
   "cell_type": "code",
   "execution_count": 22,
   "id": "4V7ijRFMZhI5",
   "metadata": {
    "colab": {
     "base_uri": "https://localhost:8080/"
    },
    "executionInfo": {
     "elapsed": 3859,
     "status": "ok",
     "timestamp": 1648076562978,
     "user": {
      "displayName": "Melanie Waterham",
      "photoUrl": "https://lh3.googleusercontent.com/a-/AOh14Gh-AQsx7DnpZVjsBjDzFBFaCe-qCVZ38TCvTl-X=s64",
      "userId": "12585328161781799289"
     },
     "user_tz": -60
    },
    "id": "4V7ijRFMZhI5",
    "outputId": "0b457e57-5c40-441d-86f3-d057a772492f"
   },
   "outputs": [
    {
     "name": "stdout",
     "output_type": "stream",
     "text": [
      "f1 for 10 after add to cart with extra columns: 0.4196702989661916\n"
     ]
    }
   ],
   "source": [
    "# 4.2 Random Forest, order 3, 10 clicks after add to cart\n",
    "# Make split\n",
    "sessions_train = list(df_train_10['action'])\n",
    "sessions_test = list(df_test_10['action'])\n",
    "labels_train = list(df_train_10['purchase'])\n",
    "labels_test = list(df_test_10['purchase'])\n",
    "\n",
    "# make n-grams\n",
    "Xtrain, mapping = encode_sessions(sessions_train, 3)\n",
    "Xtest, _ = encode_sessions(sessions_test, 3, mapping=mapping)\n",
    "\n",
    "# adding the sessions in minutes and weekday column\n",
    "Xtrain = pd.DataFrame(Xtrain)\n",
    "Xtrain[['day_of_week', 'session_in_minutes']] = df_train_10[['day_of_week', 'session_in_minutes']].values\n",
    "Xtest = pd.DataFrame(Xtest)\n",
    "Xtest[['day_of_week', 'session_in_minutes']] = df_test_10[['day_of_week', 'session_in_minutes']].values\n",
    "\n",
    "# Train model\n",
    "clf = RandomForestClassifier(n_estimators = 10, max_depth = 10, max_features = \"auto\", class_weight = \"balanced\")\n",
    "clf.fit(Xtrain, labels_train)\n",
    "forest_predictions = clf.predict(Xtest)\n",
    "\n",
    "# Print result\n",
    "print(\"f1 for 10 after add to cart with extra columns:\", metrics.f1_score(labels_test, forest_predictions))"
   ]
  },
  {
   "cell_type": "code",
   "execution_count": 23,
   "id": "A5DSTDu3Z63R",
   "metadata": {
    "colab": {
     "base_uri": "https://localhost:8080/"
    },
    "executionInfo": {
     "elapsed": 3615,
     "status": "ok",
     "timestamp": 1648083142750,
     "user": {
      "displayName": "Melanie Waterham",
      "photoUrl": "https://lh3.googleusercontent.com/a-/AOh14Gh-AQsx7DnpZVjsBjDzFBFaCe-qCVZ38TCvTl-X=s64",
      "userId": "12585328161781799289"
     },
     "user_tz": -60
    },
    "id": "A5DSTDu3Z63R",
    "outputId": "bbb4f3aa-7cdc-434c-8ad3-09a7f98ff56f"
   },
   "outputs": [
    {
     "name": "stdout",
     "output_type": "stream",
     "text": [
      "f1 for 15 after add to cart with extra columns: 0.4260309278350516\n"
     ]
    }
   ],
   "source": [
    "# 4.3 Random Forest, order 3, 15 clicks after add to cart\n",
    "# Make split\n",
    "sessions_train = list(df_train_15['action'])\n",
    "sessions_test = list(df_test_15['action'])\n",
    "labels_train = list(df_train_15['purchase'])\n",
    "labels_test = list(df_test_15['purchase'])\n",
    "\n",
    "# make n-grams\n",
    "Xtrain, mapping = encode_sessions(sessions_train, 3)\n",
    "Xtest, _ = encode_sessions(sessions_test, 3, mapping=mapping)\n",
    "\n",
    "# adding the sessions in minutes and weekday column\n",
    "Xtrain = pd.DataFrame(Xtrain)\n",
    "Xtrain[['day_of_week', 'session_in_minutes']] = df_train_15[['day_of_week', 'session_in_minutes']].values\n",
    "Xtest = pd.DataFrame(Xtest)\n",
    "Xtest[['day_of_week', 'session_in_minutes']] = df_test_15[['day_of_week', 'session_in_minutes']].values\n",
    "\n",
    "# Train model\n",
    "clf = RandomForestClassifier(n_estimators = 10, max_depth = 10, max_features = \"auto\", class_weight = \"balanced\")\n",
    "clf.fit(Xtrain, labels_train)\n",
    "forest_predictions = clf.predict(Xtest)\n",
    "\n",
    "# Print result\n",
    "print(\"f1 for 15 after add to cart with extra columns:\", metrics.f1_score(labels_test, forest_predictions))"
   ]
  },
  {
   "cell_type": "markdown",
   "id": "3jgjd91mIAjs",
   "metadata": {
    "id": "3jgjd91mIAjs"
   },
   "source": [
    "# 5. Error analysis"
   ]
  },
  {
   "cell_type": "markdown",
   "id": "yOJ0PLmpB1We",
   "metadata": {
    "id": "yOJ0PLmpB1We"
   },
   "source": [
    "First of all, there is a clear class imbalance in both the training and testing set:\n",
    "\n"
   ]
  },
  {
   "cell_type": "code",
   "execution_count": 28,
   "id": "xE-HWu-RqEWE",
   "metadata": {
    "colab": {
     "base_uri": "https://localhost:8080/"
    },
    "executionInfo": {
     "elapsed": 22,
     "status": "ok",
     "timestamp": 1648076575956,
     "user": {
      "displayName": "Melanie Waterham",
      "photoUrl": "https://lh3.googleusercontent.com/a-/AOh14Gh-AQsx7DnpZVjsBjDzFBFaCe-qCVZ38TCvTl-X=s64",
      "userId": "12585328161781799289"
     },
     "user_tz": -60
    },
    "id": "xE-HWu-RqEWE",
    "outputId": "1b0afa15-9e3f-421d-99a3-995ac2dac4a6"
   },
   "outputs": [
    {
     "name": "stdout",
     "output_type": "stream",
     "text": [
      "The proportion of 'purchase' sessions in the training data: 0.2602045433975925 and test data: 0.20377952755905512\n"
     ]
    }
   ],
   "source": [
    "majority_train = np.mean(labels_train)\n",
    "majority_test = np.mean(labels_test)\n",
    "\n",
    "print(\"The proportion of 'purchase' sessions in the training data: {} and test data: {}\".format(majority_train, majority_test))"
   ]
  },
  {
   "cell_type": "markdown",
   "id": "nUS74dRyj3Fv",
   "metadata": {
    "id": "nUS74dRyj3Fv"
   },
   "source": [
    "Regardless of this, both models from task 4 are a bit too quick to classify a session as a \"purchase\" session, at least when compared to the actual proportion of the \"purchase\" class in the data. Between the two, the (expanded) Naive Bayes classifier is more likely than the Random Forest to assign \"0\" to a session, i.e. to classify it as a \"browsing\" session:"
   ]
  },
  {
   "cell_type": "code",
   "execution_count": 29,
   "id": "xh9Dn7DrflUr",
   "metadata": {
    "colab": {
     "base_uri": "https://localhost:8080/"
    },
    "executionInfo": {
     "elapsed": 20,
     "status": "ok",
     "timestamp": 1648076575957,
     "user": {
      "displayName": "Melanie Waterham",
      "photoUrl": "https://lh3.googleusercontent.com/a-/AOh14Gh-AQsx7DnpZVjsBjDzFBFaCe-qCVZ38TCvTl-X=s64",
      "userId": "12585328161781799289"
     },
     "user_tz": -60
    },
    "id": "xh9Dn7DrflUr",
    "outputId": "dec73210-a5de-4a1d-ac59-26a78c98eab3"
   },
   "outputs": [
    {
     "name": "stdout",
     "output_type": "stream",
     "text": [
      "The proportion of 'purchase' sessions predicted by the NB classifier: 0.31803149606299214 and the Random Forest: 0.407244094488189\n"
     ]
    }
   ],
   "source": [
    "print(\"The proportion of 'purchase' sessions predicted by the NB classifier: {} and the Random Forest: {}\".format(np.mean(bayes_predictions), np.mean(forest_predictions)))"
   ]
  },
  {
   "cell_type": "markdown",
   "id": "qeWrdfheA12q",
   "metadata": {
    "id": "qeWrdfheA12q"
   },
   "source": [
    "A confusion matrix for each model's predictions shows this in more detail.\n",
    "\n",
    "While their precision values are more or less equal, the Random Forest was able to single out more of the TPs (true positives, or actual \"purchase\" sessions) than the Naive Bayes model. This means we get a much higher recall rate for the Random Forest than for Naive Bayes, at the cost of also generating a higher number of FPs (false positives): "
   ]
  },
  {
   "cell_type": "code",
   "execution_count": 30,
   "id": "qMD2AiWagw7d",
   "metadata": {
    "colab": {
     "base_uri": "https://localhost:8080/",
     "height": 314
    },
    "executionInfo": {
     "elapsed": 777,
     "status": "ok",
     "timestamp": 1648081261650,
     "user": {
      "displayName": "Melanie Waterham",
      "photoUrl": "https://lh3.googleusercontent.com/a-/AOh14Gh-AQsx7DnpZVjsBjDzFBFaCe-qCVZ38TCvTl-X=s64",
      "userId": "12585328161781799289"
     },
     "user_tz": -60
    },
    "id": "qMD2AiWagw7d",
    "outputId": "d232f3b4-d001-404f-d0a3-066e18865a38"
   },
   "outputs": [
    {
     "data": {
      "image/png": "[encoded data removed]",
      "text/plain": [
       "<Figure size 720x360 with 3 Axes>"
      ]
     },
     "metadata": {
      "needs_background": "light"
     },
     "output_type": "display_data"
    }
   ],
   "source": [
    "models = {\"Naive Bayes\" : bayes_predictions, \n",
    "          \"Random Forest\" : forest_predictions}\n",
    "fig, axes = plt.subplots(1, 2, figsize=(10, 5), sharey='row')\n",
    "\n",
    "for i, (key, predictions) in enumerate(models.items()):\n",
    "    y_pred = predictions\n",
    "    cm = confusion_matrix(labels_test, y_pred)\n",
    "    disp = ConfusionMatrixDisplay(cm, display_labels=set(labels_test))\n",
    "    disp.plot(ax=axes[i], cmap= 'Purples')\n",
    "    disp.ax_.set_title(key)\n",
    "    disp.im_.colorbar.remove()\n",
    "    disp.ax_.set_xlabel('')\n",
    "    if i!=0:\n",
    "        disp.ax_.set_ylabel('')\n",
    "\n",
    "fig.text(0.4, 0.1, 'Predicted label', ha='left')\n",
    "plt.subplots_adjust(wspace=0.40, hspace=0.1)\n",
    "\n",
    "fig.colorbar(disp.im_, ax=axes)\n",
    "plt.show()"
   ]
  },
  {
   "cell_type": "markdown",
   "id": "ElccN_rlvh8c",
   "metadata": {
    "id": "ElccN_rlvh8c"
   },
   "source": [
    "This ultimately results in a slightly higher F1 score for the Random Forest when compared to the Naive Bayes model. \n",
    "\n",
    "*   So... is one of the models better than the other? \n",
    "\n",
    "Identifying potential customers is arguably more important for a company's marketing strategy than missing out on potential buyers for the sake of avoiding false positives. More specifically: it does not matter much if your advertising campaigns also reach some random shoppers, as long as it reaches a significant portion of the intended target audience. As such, preference should be given to the predictions of the Random Forest classifier."
   ]
  },
  {
   "cell_type": "markdown",
   "id": "xDR0nOEUlGdX",
   "metadata": {
    "id": "xDR0nOEUlGdX"
   },
   "source": [
    "### Analysing feature importance: how did the models come to their predictions?"
   ]
  },
  {
   "cell_type": "markdown",
   "id": "IZUdAbWanPRC",
   "metadata": {
    "id": "IZUdAbWanPRC"
   },
   "source": [
    "To help us find out, we first assess the importance of the features in our Random Forest classifier based on Mean Decrease in Impurity (MDI). The feature importances are computed as \n",
    "the mean and standard deviation of the accumulation of impurity decrease within each tree, as it splits into more branches:\n"
   ]
  },
  {
   "cell_type": "code",
   "execution_count": 31,
   "id": "7VYGfktSnI42",
   "metadata": {
    "colab": {
     "base_uri": "https://localhost:8080/",
     "height": 441
    },
    "executionInfo": {
     "elapsed": 1893,
     "status": "ok",
     "timestamp": 1648085234545,
     "user": {
      "displayName": "Melanie Waterham",
      "photoUrl": "https://lh3.googleusercontent.com/a-/AOh14Gh-AQsx7DnpZVjsBjDzFBFaCe-qCVZ38TCvTl-X=s64",
      "userId": "12585328161781799289"
     },
     "user_tz": -60
    },
    "id": "7VYGfktSnI42",
    "outputId": "015b775e-ac91-4644-a084-981d1757c0a5"
   },
   "outputs": [
    {
     "data": {
      "image/png": "[encoded data removed]",
      "text/plain": [
       "<Figure size 864x432 with 1 Axes>"
      ]
     },
     "metadata": {
      "needs_background": "light"
     },
     "output_type": "display_data"
    }
   ],
   "source": [
    "\"\"\" Feature importances are provided by the fitted attribute feature_importances, then plotted. \"\"\"\n",
    "\n",
    "importances = clf.feature_importances_\n",
    "std = np.std([tree.feature_importances_ for tree in clf.estimators_], axis=0)\n",
    "\n",
    "feature_names = [f\"feature {i}\" for i in range(Xtrain.shape[1])]\n",
    "forest_importances = pd.Series(importances, index=feature_names)\n",
    "\n",
    "# Plotting the feature ranking\n",
    "\n",
    "fig, ax = plt.subplots()\n",
    "forest_importances.sort_values(ascending=False).plot.bar(yerr=std, ax=ax)\n",
    "ax.set_title(\"Feature importances using Mean Decrease in Impurity\")\n",
    "ax.set_ylabel(\"Mean decrease in impurity\")\n",
    "fig.set_size_inches(12, 6)\n",
    "fig.tight_layout()\n",
    "\n",
    "# From: https://scikit-learn.org/stable/auto_examples/ensemble/plot_forest_importances.html"
   ]
  },
  {
   "cell_type": "markdown",
   "id": "tIQa5gzBK55l",
   "metadata": {
    "id": "tIQa5gzBK55l"
   },
   "source": [
    "We use a function to get the n-grams of interest from the mapping. The mapping that is used is the one generated on the dataframe with sessions clipped at 15 clicks post add-to-cart:"
   ]
  },
  {
   "cell_type": "code",
   "execution_count": 32,
   "id": "9T36QzRX09_f",
   "metadata": {
    "colab": {
     "base_uri": "https://localhost:8080/"
    },
    "executionInfo": {
     "elapsed": 216,
     "status": "ok",
     "timestamp": 1648100952431,
     "user": {
      "displayName": "Melanie Waterham",
      "photoUrl": "https://lh3.googleusercontent.com/a-/AOh14Gh-AQsx7DnpZVjsBjDzFBFaCe-qCVZ38TCvTl-X=s64",
      "userId": "12585328161781799289"
     },
     "user_tz": -60
    },
    "id": "9T36QzRX09_f",
    "outputId": "7e9cfc29-5523-40e0-f8d7-2d0fff80ba8e"
   },
   "outputs": [
    {
     "name": "stdout",
     "output_type": "stream",
     "text": [
      "Most important features by mean decrease in impurity:\n",
      "feature 85    0.272606\n",
      "feature 23    0.060477\n",
      "feature 70    0.059313\n",
      "feature 59    0.053969\n",
      "feature 38    0.044745\n",
      "dtype: float64\n",
      "n-gram: key doesn't exist in mapping\n",
      "n-gram: (4, 1, 4)\n",
      "n-gram: (2, 1, 1)\n",
      "n-gram: (1, 2, 1)\n",
      "n-gram: (1, 1, 1)\n"
     ]
    }
   ],
   "source": [
    "# Function to get a selected n-gram from the mapping (the most recent mapping is used, so at 15 clicks post add-to-cart)\n",
    "def get_key(val):\n",
    "    for key, value in mapping.items():\n",
    "         if val == value:\n",
    "                return key\n",
    " \n",
    "    return \"key doesn't exist in mapping\"\n",
    "\n",
    "# Change the index to get the top n most important features in the model\n",
    "top_n = forest_importances.sort_values(ascending=False)[:5]\n",
    "print(\"Most important features by mean decrease in impurity:\\n{}\".format(top_n))\n",
    "\n",
    "view_ngrams = []\n",
    "\n",
    "for i in top_n.index:\n",
    "    view_ngrams.append(i.lstrip(\"feature \"))\n",
    "\n",
    "for i in view_ngrams:\n",
    "    print(\"n-gram: {}\".format(get_key(int(i))))"
   ]
  },
  {
   "cell_type": "code",
   "execution_count": 33,
   "id": "fOCC8vorVI0F",
   "metadata": {
    "colab": {
     "base_uri": "https://localhost:8080/"
    },
    "executionInfo": {
     "elapsed": 12,
     "status": "ok",
     "timestamp": 1648085234546,
     "user": {
      "displayName": "Melanie Waterham",
      "photoUrl": "https://lh3.googleusercontent.com/a-/AOh14Gh-AQsx7DnpZVjsBjDzFBFaCe-qCVZ38TCvTl-X=s64",
      "userId": "12585328161781799289"
     },
     "user_tz": -60
    },
    "id": "fOCC8vorVI0F",
    "outputId": "c4c07f4f-b2ad-43ea-a29c-9cb74ad31572"
   },
   "outputs": [
    {
     "name": "stdout",
     "output_type": "stream",
     "text": [
      "Least important features by mean decrease in impurity:\n",
      "feature 35    0.000000\n",
      "feature 78    0.000000\n",
      "feature 49    0.000000\n",
      "feature 63    0.000000\n",
      "feature 76    0.000066\n",
      "dtype: float64\n",
      "n-gram: (4, 1, 3)\n",
      "n-gram: (3, 4, 2)\n",
      "n-gram: ('#', 2, 2)\n",
      "n-gram: ('#', 4, 2)\n",
      "n-gram: ('#', 3, 2)\n"
     ]
    }
   ],
   "source": [
    "# Change the index to get the top n LEAST important features in the model\n",
    "top_n = forest_importances.sort_values(ascending=True)[:5]\n",
    "print(\"Least important features by mean decrease in impurity:\\n{}\".format(top_n))\n",
    "\n",
    "view_ngrams = []\n",
    "\n",
    "for i in top_n.index:\n",
    "    view_ngrams.append(i.lstrip(\"feature \"))\n",
    "\n",
    "for i in view_ngrams:\n",
    "    print(\"n-gram: {}\".format(get_key(int(i))))"
   ]
  },
  {
   "cell_type": "markdown",
   "id": "yfp9tCqL52MK",
   "metadata": {
    "id": "yfp9tCqL52MK"
   },
   "source": [
    "From the above, it appears that one feature is much more conclusive than all the others. This feature with number \"85\" does not exist in the mapping of n-grams to factors, as this is not an n-gram but the session length in minutes for each session."
   ]
  },
  {
   "cell_type": "markdown",
   "id": "kPBxfw0fxI4P",
   "metadata": {
    "id": "kPBxfw0fxI4P"
   },
   "source": [
    "A more general way to determine feature importance is through feature permutation, or \"leave-one-out\". This overcomes limitations of the impurity-based feature importance, as it does not have a bias towards high-cardinality features and can be computed on a left-out test set.\n",
    "\n",
    "*   Spoiler: this method comes up with exactly the same \"most conclusive\" features as the above method based on MDI:"
   ]
  },
  {
   "cell_type": "code",
   "execution_count": 34,
   "id": "KX4as48gxAcG",
   "metadata": {
    "colab": {
     "base_uri": "https://localhost:8080/",
     "height": 498
    },
    "executionInfo": {
     "elapsed": 26184,
     "status": "ok",
     "timestamp": 1648085260724,
     "user": {
      "displayName": "Melanie Waterham",
      "photoUrl": "https://lh3.googleusercontent.com/a-/AOh14Gh-AQsx7DnpZVjsBjDzFBFaCe-qCVZ38TCvTl-X=s64",
      "userId": "12585328161781799289"
     },
     "user_tz": -60
    },
    "id": "KX4as48gxAcG",
    "outputId": "76b7259f-3a79-4a5f-df88-eeb3050a03c4"
   },
   "outputs": [
    {
     "data": {
      "image/png": "[encoded data removed]",
      "text/plain": [
       "<Figure size 864x432 with 1 Axes>"
      ]
     },
     "metadata": {
      "needs_background": "light"
     },
     "output_type": "display_data"
    }
   ],
   "source": [
    "\"\"\" Feature analysis based on feature permutation. \"\"\"\n",
    "\n",
    "result = permutation_importance(\n",
    "    clf, Xtest.values, labels_test, n_repeats=10, random_state=42, n_jobs=2)\n",
    "forest_importances = pd.Series(result.importances_mean, index=feature_names)\n",
    "feature_names = [f\"feature {i}\" for i in range(Xtest.shape[1])]\n",
    "\n",
    "# Plotting the feature ranking\n",
    "fig, ax = plt.subplots()\n",
    "forest_importances.sort_values(ascending=False).plot.bar(yerr=result.importances_std, ax=ax)\n",
    "ax.set_title(\"Feature importances using permutation on full model\")\n",
    "ax.set_ylabel(\"Mean accuracy decrease\")\n",
    "fig.set_size_inches(12, 6)\n",
    "fig.tight_layout()\n",
    "plt.show()\n",
    "\n",
    "# From: https://scikit-learn.org/stable/auto_examples/ensemble/plot_forest_importances.html"
   ]
  },
  {
   "cell_type": "code",
   "execution_count": 35,
   "id": "g9ZEqeXR1dA7",
   "metadata": {
    "colab": {
     "base_uri": "https://localhost:8080/"
    },
    "executionInfo": {
     "elapsed": 245,
     "status": "ok",
     "timestamp": 1648100943542,
     "user": {
      "displayName": "Melanie Waterham",
      "photoUrl": "https://lh3.googleusercontent.com/a-/AOh14Gh-AQsx7DnpZVjsBjDzFBFaCe-qCVZ38TCvTl-X=s64",
      "userId": "12585328161781799289"
     },
     "user_tz": -60
    },
    "id": "g9ZEqeXR1dA7",
    "outputId": "d0ee09a6-ec16-43b3-fc0d-d628fe3dc3cc"
   },
   "outputs": [
    {
     "name": "stdout",
     "output_type": "stream",
     "text": [
      "Most important features based on feature permutation:\n",
      "feature 85    0.023386\n",
      "feature 70    0.007118\n",
      "feature 50    0.003953\n",
      "feature 23    0.002433\n",
      "feature 65    0.001228\n",
      "dtype: float64\n",
      "n-gram: key doesn't exist in mapping\n",
      "n-gram: (2, 1, 1)\n",
      "n-gram: (1, 2, '+')\n",
      "n-gram: (4, 1, 4)\n",
      "n-gram: (2, 1, '+')\n"
     ]
    }
   ],
   "source": [
    "# Change the index to get the top n MOST important features in the model\n",
    "top_n = forest_importances.sort_values(ascending=False)[:5]\n",
    "print(\"Most important features based on feature permutation:\\n{}\".format(top_n))\n",
    "\n",
    "view_ngrams = []\n",
    "\n",
    "for i in top_n.index:\n",
    "    view_ngrams.append(i.lstrip(\"feature \"))\n",
    "\n",
    "for i in view_ngrams:\n",
    "    print(\"n-gram: {}\".format(get_key(int(i))))"
   ]
  },
  {
   "cell_type": "code",
   "execution_count": 36,
   "id": "LnQOcfhN1fYI",
   "metadata": {
    "colab": {
     "base_uri": "https://localhost:8080/"
    },
    "executionInfo": {
     "elapsed": 220,
     "status": "ok",
     "timestamp": 1648095360444,
     "user": {
      "displayName": "Melanie Waterham",
      "photoUrl": "https://lh3.googleusercontent.com/a-/AOh14Gh-AQsx7DnpZVjsBjDzFBFaCe-qCVZ38TCvTl-X=s64",
      "userId": "12585328161781799289"
     },
     "user_tz": -60
    },
    "id": "LnQOcfhN1fYI",
    "outputId": "abb1941f-bc16-499f-8674-91ec7a392719"
   },
   "outputs": [
    {
     "name": "stdout",
     "output_type": "stream",
     "text": [
      "Least important features based on feature permutation:\n",
      "feature 17   -0.009724\n",
      "feature 59   -0.006315\n",
      "feature 43   -0.006213\n",
      "feature 45   -0.004244\n",
      "feature 54   -0.004236\n",
      "dtype: float64\n",
      "n-gram: (3, 1, 1)\n",
      "n-gram: (1, 2, 1)\n",
      "n-gram: (1, 2, 2)\n",
      "n-gram: (3, 4, 1)\n",
      "n-gram: (2, 2, 1)\n"
     ]
    }
   ],
   "source": [
    "# Change the index to get the top n LEAST important features in the model\n",
    "top_n = forest_importances.sort_values(ascending=True)[:5]\n",
    "print(\"Least important features based on feature permutation:\\n{}\".format(top_n))\n",
    "\n",
    "view_ngrams = []\n",
    "\n",
    "for i in top_n.index:\n",
    "    view_ngrams.append(i.lstrip(\"feature \"))\n",
    "\n",
    "for i in view_ngrams:\n",
    "    print(\"n-gram: {}\".format(get_key(int(i))))"
   ]
  },
  {
   "cell_type": "markdown",
   "id": "ztAmldqYUIoo",
   "metadata": {
    "id": "ztAmldqYUIoo"
   },
   "source": [
    "Contrary to the selection of most useful features, the *least* useful features produced by the two different approaches vary. The MDI approach selects some beginning- or end-of-session n-grams as being among the least telling features in the Random Forest model, which the permutation method does not do. \n",
    "\n",
    "*   Based on the results above, there does not necessarily seem to be an obvious sign of what a 3-gram needs to look like in order to be useful or not. Strikingly, some of the most and least useful n-grams are in fact quite similar: compare most useful (1, 2, 1) or (1, 1, 2) with least useful (1, 1, 1) or (2, 1, 2)."
   ]
  },
  {
   "cell_type": "markdown",
   "id": "cy_Vj4CvU_Uu",
   "metadata": {
    "id": "cy_Vj4CvU_Uu"
   },
   "source": [
    "Feature importance through permutations can also be determined for the Naive Bayes model:"
   ]
  },
  {
   "cell_type": "code",
   "execution_count": 37,
   "id": "NnW_pKaE9Hvf",
   "metadata": {
    "colab": {
     "base_uri": "https://localhost:8080/",
     "height": 498
    },
    "executionInfo": {
     "elapsed": 12824,
     "status": "ok",
     "timestamp": 1648085273540,
     "user": {
      "displayName": "Melanie Waterham",
      "photoUrl": "https://lh3.googleusercontent.com/a-/AOh14Gh-AQsx7DnpZVjsBjDzFBFaCe-qCVZ38TCvTl-X=s64",
      "userId": "12585328161781799289"
     },
     "user_tz": -60
    },
    "id": "NnW_pKaE9Hvf",
    "outputId": "f4dc5cf1-1f8a-42e8-d2a5-277587b7b4a9"
   },
   "outputs": [
    {
     "data": {
      "image/png": "[encoded data removed]",
      "text/plain": [
       "<Figure size 864x432 with 1 Axes>"
      ]
     },
     "metadata": {
      "needs_background": "light"
     },
     "output_type": "display_data"
    }
   ],
   "source": [
    "result = permutation_importance(\n",
    "    NB, Xtest.values, labels_test, n_repeats=10, random_state=42, n_jobs=2)\n",
    "bayes_importances = pd.Series(result.importances_mean, index=feature_names)\n",
    "feature_names = [f\"feature {i}\" for i in range(Xtest.shape[1])]\n",
    "\n",
    "# Plotting the feature ranking\n",
    "fig, ax = plt.subplots()\n",
    "bayes_importances.sort_values(ascending=False).plot.bar(yerr=result.importances_std, ax=ax)\n",
    "ax.set_title(\"Feature importances using permutation on full model\")\n",
    "ax.set_ylabel(\"Mean accuracy decrease\")\n",
    "fig.set_size_inches(12, 6)\n",
    "fig.tight_layout()\n",
    "plt.show()"
   ]
  },
  {
   "cell_type": "code",
   "execution_count": 38,
   "id": "HRdMKFZze2NQ",
   "metadata": {
    "colab": {
     "base_uri": "https://localhost:8080/"
    },
    "executionInfo": {
     "elapsed": 211,
     "status": "ok",
     "timestamp": 1648102384898,
     "user": {
      "displayName": "Melanie Waterham",
      "photoUrl": "https://lh3.googleusercontent.com/a-/AOh14Gh-AQsx7DnpZVjsBjDzFBFaCe-qCVZ38TCvTl-X=s64",
      "userId": "12585328161781799289"
     },
     "user_tz": -60
    },
    "id": "HRdMKFZze2NQ",
    "outputId": "ee74e9a5-3941-4897-b986-787cf6658e5f"
   },
   "outputs": [
    {
     "name": "stdout",
     "output_type": "stream",
     "text": [
      "Most important features based on feature permutation:\n",
      "feature 85    0.033323\n",
      "feature 2     0.007394\n",
      "feature 23    0.005654\n",
      "feature 19    0.003630\n",
      "feature 41    0.002244\n",
      "dtype: float64\n",
      "n-gram: key doesn't exist in mapping\n",
      "n-gram: (4, 4, 4)\n",
      "n-gram: (4, 1, 4)\n",
      "n-gram: (1, 4, 4)\n",
      "n-gram: (4, 4, 1)\n"
     ]
    }
   ],
   "source": [
    "top_n = bayes_importances.sort_values(ascending=False)[:5]\n",
    "print(\"Most important features based on feature permutation:\\n{}\".format(top_n))\n",
    "\n",
    "view_ngrams = []\n",
    "\n",
    "for i in top_n.index:\n",
    "    view_ngrams.append(i.lstrip(\"feature \"))\n",
    "\n",
    "for i in view_ngrams:\n",
    "    print(\"n-gram: {}\".format(get_key(int(i))))"
   ]
  },
  {
   "cell_type": "code",
   "execution_count": 39,
   "id": "kaCnc4r-gwDF",
   "metadata": {
    "colab": {
     "base_uri": "https://localhost:8080/"
    },
    "executionInfo": {
     "elapsed": 19,
     "status": "ok",
     "timestamp": 1648085273545,
     "user": {
      "displayName": "Melanie Waterham",
      "photoUrl": "https://lh3.googleusercontent.com/a-/AOh14Gh-AQsx7DnpZVjsBjDzFBFaCe-qCVZ38TCvTl-X=s64",
      "userId": "12585328161781799289"
     },
     "user_tz": -60
    },
    "id": "kaCnc4r-gwDF",
    "outputId": "a55dd2a6-fc84-4b49-ce5f-2edfeacd631b"
   },
   "outputs": [
    {
     "name": "stdout",
     "output_type": "stream",
     "text": [
      "Least important features based on feature permutation:\n",
      "feature 59   -0.010299\n",
      "feature 53   -0.008575\n",
      "feature 70   -0.007661\n",
      "feature 26   -0.006685\n",
      "feature 43   -0.004346\n",
      "dtype: float64\n",
      "n-gram: (1, 2, 1)\n",
      "n-gram: (2, 1, 2)\n",
      "n-gram: (2, 1, 1)\n",
      "n-gram: (1, 1, 2)\n",
      "n-gram: (1, 2, 2)\n"
     ]
    }
   ],
   "source": [
    "top_n = bayes_importances.sort_values(ascending=True)[:5]\n",
    "print(\"Least important features based on feature permutation:\\n{}\".format(top_n))\n",
    "\n",
    "view_ngrams = []\n",
    "\n",
    "for i in top_n.index:\n",
    "    view_ngrams.append(i.lstrip(\"feature \"))\n",
    "\n",
    "for i in view_ngrams:\n",
    "    print(\"n-gram: {}\".format(get_key(int(i))))"
   ]
  },
  {
   "cell_type": "markdown",
   "id": "fZGgGpm9h779",
   "metadata": {
    "id": "fZGgGpm9h779"
   },
   "source": [
    "Interestingly, the Naive Bayes model does seem to make a clear distinction: an n-gram that contains two or more '4' - 'remove from cart' actions is sure to end up in the top 5 most useful three-grams. At the same time, n-grams solely made up out of '1' - 'view', and '2' - 'detail' actions end up all the way on the bottom of the list.\n",
    "\n",
    "Perhaps the action of discarding some items from one's cart is indicative of a decided customer before checkout, and thus increases the probability of the session ending in a purchase? Naive Bayes agrees, the Random Forest not so much."
   ]
  },
  {
   "cell_type": "markdown",
   "id": "epTp68Bnk4KD",
   "metadata": {
    "id": "epTp68Bnk4KD"
   },
   "source": [
    "### Session length"
   ]
  },
  {
   "cell_type": "markdown",
   "id": "aW1p0jzOEZV5",
   "metadata": {
    "id": "aW1p0jzOEZV5"
   },
   "source": [
    "Both models agree on the usefulness of the session length in minutes. Is session length really decisive in whether a given session is going to end in a purchase or not?\n",
    "\n",
    "The density plots show a similar distribution of sessions by duration for both of our classes, with a steeper curve for class \"0\". This would suggest there is some difference in session length between groups, although the higher frequency of class \"0\" in the data may distort our perspective:"
   ]
  },
  {
   "cell_type": "code",
   "execution_count": 40,
   "id": "Pc3N2F4gdGa4",
   "metadata": {
    "colab": {
     "base_uri": "https://localhost:8080/",
     "height": 387
    },
    "executionInfo": {
     "elapsed": 795,
     "status": "ok",
     "timestamp": 1648085274328,
     "user": {
      "displayName": "Melanie Waterham",
      "photoUrl": "https://lh3.googleusercontent.com/a-/AOh14Gh-AQsx7DnpZVjsBjDzFBFaCe-qCVZ38TCvTl-X=s64",
      "userId": "12585328161781799289"
     },
     "user_tz": -60
    },
    "id": "Pc3N2F4gdGa4",
    "outputId": "f34a5916-c2cd-41da-81c7-e6f665af8ddb"
   },
   "outputs": [
    {
     "data": {
      "text/plain": [
       "<seaborn.axisgrid.FacetGrid at 0x7fecc560d610>"
      ]
     },
     "execution_count": 40,
     "metadata": {},
     "output_type": "execute_result"
    },
    {
     "data": {
      "image/png": "[encoded data removed]",
      "text/plain": [
       "<Figure size 413.875x360 with 1 Axes>"
      ]
     },
     "metadata": {
      "needs_background": "light"
     },
     "output_type": "display_data"
    }
   ],
   "source": [
    "sns.displot(data=df_test_15, x='session_in_minutes', kind='kde', hue='purchase')"
   ]
  },
  {
   "cell_type": "markdown",
   "id": "xPsDwaCajeFt",
   "metadata": {
    "id": "xPsDwaCajeFt"
   },
   "source": [
    "The difference is more visible when looking at the histograms of both classes: \"browsing\" sessions tend to lie on the shorter end of the spectrum, while successful \"purchase\" sessions do indeed tend to go on a bit more frequently:"
   ]
  },
  {
   "cell_type": "code",
   "execution_count": 41,
   "id": "9MF15iDwASmq",
   "metadata": {
    "colab": {
     "base_uri": "https://localhost:8080/",
     "height": 344
    },
    "executionInfo": {
     "elapsed": 1949,
     "status": "ok",
     "timestamp": 1648085448205,
     "user": {
      "displayName": "Melanie Waterham",
      "photoUrl": "https://lh3.googleusercontent.com/a-/AOh14Gh-AQsx7DnpZVjsBjDzFBFaCe-qCVZ38TCvTl-X=s64",
      "userId": "12585328161781799289"
     },
     "user_tz": -60
    },
    "id": "9MF15iDwASmq",
    "outputId": "f03d2600-d564-42a0-8c67-93444e411f4e"
   },
   "outputs": [
    {
     "data": {
      "text/plain": [
       "array([<AxesSubplot:title={'center':'0'}>,\n",
       "       <AxesSubplot:title={'center':'1'}>], dtype=object)"
      ]
     },
     "execution_count": 41,
     "metadata": {},
     "output_type": "execute_result"
    },
    {
     "data": {
      "image/png": "[encoded data removed]",
      "text/plain": [
       "<Figure size 432x288 with 2 Axes>"
      ]
     },
     "metadata": {
      "needs_background": "light"
     },
     "output_type": "display_data"
    }
   ],
   "source": [
    "dwell = df_test_15['session_in_minutes']\n",
    "dwell.hist(by=df_test_15['purchase'], bins = 150, range=(dwell.min(), 0.5*dwell.max()))"
   ]
  }
 ],
 "metadata": {
  "accelerator": "TPU",
  "colab": {
   "collapsed_sections": [],
   "name": "final.ipynb",
   "provenance": []
  },
  "kernelspec": {
   "display_name": "Python 3 (ipykernel)",
   "language": "python",
   "name": "python3"
  },
  "language_info": {
   "codemirror_mode": {
    "name": "ipython",
    "version": 3
   },
   "file_extension": ".py",
   "mimetype": "text/x-python",
   "name": "python",
   "nbconvert_exporter": "python",
   "pygments_lexer": "ipython3",
   "version": "3.9.7"
  }
 },
 "nbformat": 4,
 "nbformat_minor": 5
}
